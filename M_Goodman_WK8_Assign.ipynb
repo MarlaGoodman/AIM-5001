{
 "cells": [
  {
   "cell_type": "code",
   "execution_count": 192,
   "metadata": {},
   "outputs": [],
   "source": [
    "#import regex\n",
    "import re\n",
    "#import pandas \n",
    "import pandas as pd"
   ]
  },
  {
   "cell_type": "code",
   "execution_count": 193,
   "metadata": {},
   "outputs": [],
   "source": [
    "# copy and paste data from homework instructions, assign it to 'text':\n",
    "\n",
    "text = \"555-1239Moe Szyslak(636) 555-0113Burns, C. Montgomery555 -6542Rev. Timothy Lovejoy555 8904Ned Flanders636-555-3226Simpson, Homer5553642Dr. Julius Hibbert\""
   ]
  },
  {
   "cell_type": "markdown",
   "metadata": {},
   "source": [
    "#### Task 1:  \n",
    "Extract the names of each individual from the unformatted text string and store them in a vector of some\n",
    "sort. \n",
    "\n",
    "I will use the findall function to extract the info. We are looking for a capitol letter followed by lower case letters to match the names. We also want any middle names or titles that come with a \",\" or \".\""
   ]
  },
  {
   "cell_type": "code",
   "execution_count": 200,
   "metadata": {},
   "outputs": [],
   "source": [
    "#use regex find all function, assign results to 'names'\n",
    "#[A-Z] = match capitalized letter \n",
    "#[a-zA-Z\\s\\,\\.]+ = match letter, followed by any white space, followed by a comma and a period \n",
    "#[a-z] = match lower case letter\n",
    "\n",
    "names = re.findall('[A-Z][a-zA-Z\\s\\,\\.]+[a-z]', text)"
   ]
  },
  {
   "cell_type": "code",
   "execution_count": 199,
   "metadata": {},
   "outputs": [
    {
     "data": {
      "text/plain": [
       "['Moe Szyslak',\n",
       " 'Burns, C. Montgomery',\n",
       " 'Rev. Timothy Lovejoy',\n",
       " 'Ned Flanders',\n",
       " 'Simpson, Homer',\n",
       " 'Dr. Julius Hibbert']"
      ]
     },
     "execution_count": 199,
     "metadata": {},
     "output_type": "execute_result"
    }
   ],
   "source": [
    "#resulting vector\n",
    "names"
   ]
  },
  {
   "cell_type": "markdown",
   "metadata": {},
   "source": [
    "#### Task 2"
   ]
  },
  {
   "cell_type": "markdown",
   "metadata": {},
   "source": [
    "#### 2A."
   ]
  },
  {
   "cell_type": "markdown",
   "metadata": {},
   "source": [
    " Use your regex skills to rearrange the vector so that all elements conform to the standard\n",
    "“firstname lastname”, preserving any titles (e.g., “Rev.”, “Dr.”, etc) or middle/second names.\n",
    "\n",
    "I will first create a pattern and use that for substitution within 'names'."
   ]
  },
  {
   "cell_type": "code",
   "execution_count": 229,
   "metadata": {},
   "outputs": [],
   "source": [
    "#create pattern called regex -- r\n",
    "#regex 1 matches letters\n",
    "#regex 2 matches letters, followed by a period, followed by anything that doesn't match an alphanumeric character\n",
    "regex = r\"([a-zA-Z]+),([a-zA-Z\\.\\W]+)\""
   ]
  },
  {
   "cell_type": "code",
   "execution_count": 242,
   "metadata": {},
   "outputs": [],
   "source": [
    "#use regex within sub function\n",
    "#for every row in 'names', do the following and assign the results to 'names2':\n",
    "#substitute letters with letters followed by the other items \n",
    "#then substitute letters followed by other items with letteres\n",
    "names2 = [re.sub(regex, r\"\\2 \\1\", row) for row in names]"
   ]
  },
  {
   "cell_type": "code",
   "execution_count": 243,
   "metadata": {},
   "outputs": [
    {
     "data": {
      "text/plain": [
       "['Moe Szyslak',\n",
       " ' C. Montgomery Burns',\n",
       " 'Rev. Timothy Lovejoy',\n",
       " 'Ned Flanders',\n",
       " ' Homer Simpson',\n",
       " 'Dr. Julius Hibbert']"
      ]
     },
     "execution_count": 243,
     "metadata": {},
     "output_type": "execute_result"
    }
   ],
   "source": [
    "#show names2\n",
    "names2"
   ]
  },
  {
   "cell_type": "markdown",
   "metadata": {},
   "source": [
    "#### 2B.\n",
    "Construct a logical vector indicating whether a character has a title (i.e., Rev. and Dr.).\n",
    "\n",
    "I will create a pandas Series to then perform the logical boolean test.\n",
    "The test will identify those strings that contain letters followed by a \".\""
   ]
  },
  {
   "cell_type": "code",
   "execution_count": 248,
   "metadata": {},
   "outputs": [],
   "source": [
    "# make 'names2' vectory into a Series, assign it to 'names3'\n",
    "names3=pd.Series(names2)"
   ]
  },
  {
   "cell_type": "code",
   "execution_count": 249,
   "metadata": {},
   "outputs": [
    {
     "data": {
      "text/plain": [
       "0    False\n",
       "1    False\n",
       "2     True\n",
       "3    False\n",
       "4    False\n",
       "5     True\n",
       "dtype: bool"
      ]
     },
     "execution_count": 249,
     "metadata": {},
     "output_type": "execute_result"
    }
   ],
   "source": [
    "# see if any strings in 'names2' contain:\n",
    "# \\w+ = match alphanumeric character\n",
    "# [a-zA-Z]+\\. = match any letter, followed by a period\n",
    "\n",
    "names3.str.contains('\\w+[a-zA-Z]+\\.')"
   ]
  },
  {
   "cell_type": "markdown",
   "metadata": {},
   "source": [
    "#### 2C. \n",
    "Construct a logical vector indicating whether a character has a middle/second name. \n",
    "\n",
    "I'll use a pattern that matches where a middle name starts (after a space that in turn comes after letters) and ends (after a space that in turns comes after letters/abbreviations). Then I'll use the 'contains' function to find all the names that match the pattern."
   ]
  },
  {
   "cell_type": "code",
   "execution_count": 263,
   "metadata": {},
   "outputs": [
    {
     "data": {
      "text/plain": [
       "0    False\n",
       "1     True\n",
       "2    False\n",
       "3    False\n",
       "4    False\n",
       "5    False\n",
       "dtype: bool"
      ]
     },
     "execution_count": 263,
     "metadata": {},
     "output_type": "execute_result"
    }
   ],
   "source": [
    "#use 'contains' function on 'names3' to match the pattern\n",
    "#\\s = blank space\n",
    "#followed by any letter\n",
    "#followed by either a period/blank space\n",
    "names3.str.contains('\\s[a-zA-Z]\\.\\s')"
   ]
  },
  {
   "cell_type": "markdown",
   "metadata": {},
   "source": [
    "#### Task 3:\n",
    "\n",
    "Consider the HTML string <\\title>+++BREAKING NEWS+++<\\title>'. \n",
    "We would like to extract the first HTML tag (i.e., “<\\title>”). To do so we write the regular expression “<.+>”. Explain why this fails and correct the expression.\n",
    "    \n",
    "First I'll run the regex given to see the results and examine why it fails."
   ]
  },
  {
   "cell_type": "code",
   "execution_count": 206,
   "metadata": {},
   "outputs": [],
   "source": [
    "# assign the string to 'text2'\n",
    "text2=\"<title>+++BREAKING NEWS+++<title>\""
   ]
  },
  {
   "cell_type": "code",
   "execution_count": 207,
   "metadata": {},
   "outputs": [
    {
     "data": {
      "text/plain": [
       "['<title>+++BREAKING NEWS+++<title>']"
      ]
     },
     "execution_count": 207,
     "metadata": {},
     "output_type": "execute_result"
    }
   ],
   "source": [
    "# run the given regex\n",
    "re.findall('<.+>',text2)"
   ]
  },
  {
   "cell_type": "markdown",
   "metadata": {},
   "source": [
    "'+' matches as much text as possible. That is why we get the whole string of text2 brought back. Adding '?' after it narrows down the match."
   ]
  },
  {
   "cell_type": "code",
   "execution_count": 265,
   "metadata": {},
   "outputs": [],
   "source": [
    "#use ''<.+?>' instead, and assign result to 'output'\n",
    "output = re.findall('<.+?>',text2)"
   ]
  },
  {
   "cell_type": "code",
   "execution_count": 267,
   "metadata": {},
   "outputs": [
    {
     "data": {
      "text/plain": [
       "['<title>', '<title>']"
      ]
     },
     "execution_count": 267,
     "metadata": {},
     "output_type": "execute_result"
    }
   ],
   "source": [
    "#show 'output'\n",
    "output"
   ]
  },
  {
   "cell_type": "code",
   "execution_count": 269,
   "metadata": {},
   "outputs": [],
   "source": [
    "#take out the first 'title' by indexing it, assign it to 'final'\n",
    "final=[output[0]]"
   ]
  },
  {
   "cell_type": "code",
   "execution_count": 271,
   "metadata": {},
   "outputs": [
    {
     "data": {
      "text/plain": [
       "['<title>']"
      ]
     },
     "execution_count": 271,
     "metadata": {},
     "output_type": "execute_result"
    }
   ],
   "source": [
    "#show final answer\n",
    "final"
   ]
  },
  {
   "cell_type": "markdown",
   "metadata": {},
   "source": [
    "#### Task 4: \n",
    "Consider the string “(5-3)^2=5^2-2*5*3+3^2”. We would like to extract the formula in the string. To do so we write the regular expression “[^0-9=+*()]+”. Explain why this fails and correct the expression. \n",
    "\n",
    "First I'll run the regex given to see the results and examine why it fails."
   ]
  },
  {
   "cell_type": "code",
   "execution_count": 272,
   "metadata": {},
   "outputs": [],
   "source": [
    "# assign string to 'text3'\n",
    "text3 = \"(5-3)^2=5^2-2*5*3+3^2\""
   ]
  },
  {
   "cell_type": "code",
   "execution_count": 273,
   "metadata": {},
   "outputs": [
    {
     "data": {
      "text/plain": [
       "['-', '^', '^', '-', '^']"
      ]
     },
     "execution_count": 273,
     "metadata": {},
     "output_type": "execute_result"
    }
   ],
   "source": [
    "# run given regex\n",
    "re.findall('[^0-9=+*()]+', text3)"
   ]
  },
  {
   "cell_type": "markdown",
   "metadata": {},
   "source": [
    "The ^ as it is used here means to not match any of the items right of it. The items here are '=','+','*', and '()'.\n",
    "That's why our result only has '^' and '-' pulled from the equation. A '\\\\' is needed before the ^ to have the item matches made literally."
   ]
  },
  {
   "cell_type": "code",
   "execution_count": 275,
   "metadata": {},
   "outputs": [
    {
     "data": {
      "text/plain": [
       "['(5-3)^2=5^2-2*5*3+3^2']"
      ]
     },
     "execution_count": 275,
     "metadata": {},
     "output_type": "execute_result"
    }
   ],
   "source": [
    "#use findall function to match the pattern within 'text3'\n",
    "#match number followed by any of these: '=','+','*', or '()'\n",
    "re.findall('[0-9\\^()*+-=]+',text3)"
   ]
  }
 ],
 "metadata": {
  "kernelspec": {
   "display_name": "Python 3",
   "language": "python",
   "name": "python3"
  },
  "language_info": {
   "codemirror_mode": {
    "name": "ipython",
    "version": 3
   },
   "file_extension": ".py",
   "mimetype": "text/x-python",
   "name": "python",
   "nbconvert_exporter": "python",
   "pygments_lexer": "ipython3",
   "version": "3.8.3"
  }
 },
 "nbformat": 4,
 "nbformat_minor": 4
}
