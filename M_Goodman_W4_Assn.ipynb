{
 "cells": [
  {
   "cell_type": "markdown",
   "metadata": {},
   "source": [
    "First need to bring in the numpy library, and get our arrays.\n",
    "Get numpy library --> import numpy as np.\n",
    "Copy and Paste arrays a and b from the homework instructions."
   ]
  },
  {
   "cell_type": "code",
   "execution_count": 2,
   "metadata": {},
   "outputs": [],
   "source": [
    "import numpy as np\n",
    "a = np.array([1, 2, 3, 2, 3, 4, 3, 4, 5, 6])\n",
    "b = np.array([7, 2, 10, 2, 7, 4, 9, 4, 9, 8])"
   ]
  },
  {
   "cell_type": "markdown",
   "metadata": {},
   "source": [
    "Qestion 1: \n",
    "Write a Python/NumPy code block that finds the distinct/unique common items between a and b arrays.\n",
    "Output should contain only the distinct overlapping values. (For example, if a 2 is found in both array a and array b,\n",
    "your output should contain only one 2 even if array a contains more than one 2 within it.)"
   ]
  },
  {
   "cell_type": "code",
   "execution_count": 10,
   "metadata": {},
   "outputs": [
    {
     "data": {
      "text/plain": [
       "array([2, 4])"
      ]
     },
     "execution_count": 10,
     "metadata": {},
     "output_type": "execute_result"
    }
   ],
   "source": [
    "#use np.instersect1d to get distinct/unique common items between two arrays\n",
    "np.intersect1d(a,b)"
   ]
  },
  {
   "cell_type": "markdown",
   "metadata": {},
   "source": [
    "Question 2: \n",
    "Create the following 5x3 array using knowledge you have of Python’s / NumPy’s sequencing functionality\n",
    "so that you do not need to explicitly key in every integer value.\n",
    "1 6 11\n",
    "2 7 12\n",
    "3 8 13\n",
    "4 9 14\n",
    "5 10 15\n",
    "\n",
    "Do this in a few steps:\n",
    "\n",
    "1. Create an array with elements 1 to 15\n",
    "2. Reshape it from a 1D array to an array of 3 x 5\n",
    "3. Transpose it to get desired order of the 3 x 5 array"
   ]
  },
  {
   "cell_type": "code",
   "execution_count": 18,
   "metadata": {},
   "outputs": [],
   "source": [
    "#Create array with elements 1 to 15, using np.arange\n",
    "arr=np.arange(1, 16)\n",
    "#reshape the array to three rows, five columns \n",
    "#name the reshaped array arr1\n",
    "arr1=arr.reshape(3,5)"
   ]
  },
  {
   "cell_type": "code",
   "execution_count": 19,
   "metadata": {},
   "outputs": [
    {
     "name": "stdout",
     "output_type": "stream",
     "text": [
      "[[ 1  2  3  4  5]\n",
      " [ 6  7  8  9 10]\n",
      " [11 12 13 14 15]]\n"
     ]
    }
   ],
   "source": [
    "print(arr1)"
   ]
  },
  {
   "cell_type": "code",
   "execution_count": 20,
   "metadata": {},
   "outputs": [
    {
     "data": {
      "text/plain": [
       "array([[ 1,  6, 11],\n",
       "       [ 2,  7, 12],\n",
       "       [ 3,  8, 13],\n",
       "       [ 4,  9, 14],\n",
       "       [ 5, 10, 15]])"
      ]
     },
     "execution_count": 20,
     "metadata": {},
     "output_type": "execute_result"
    }
   ],
   "source": [
    "#transpose arr1 \n",
    "arr1.T"
   ]
  },
  {
   "cell_type": "markdown",
   "metadata": {},
   "source": [
    "Question 3: \n",
    "Write a Python/Numpy code block that removes from array a1 any items that are also present in array b1.\n",
    "np.setdiff1d removes items from a1 that are also found in b1"
   ]
  },
  {
   "cell_type": "code",
   "execution_count": 21,
   "metadata": {},
   "outputs": [],
   "source": [
    "#Copy and Paste arrays a1 and b1 from homework instructions\n",
    "a1 = np.array([12, 5, 7, 15, 3, 1, 8])\n",
    "b1 = np.array([14, 6, 3, 11, 19, 12, 5])"
   ]
  },
  {
   "cell_type": "code",
   "execution_count": 24,
   "metadata": {},
   "outputs": [
    {
     "data": {
      "text/plain": [
       "array([ 1,  7,  8, 15])"
      ]
     },
     "execution_count": 24,
     "metadata": {},
     "output_type": "execute_result"
    }
   ],
   "source": [
    "#use np.setdiff1d for a1 and b1. a1 will come back without the values that also appear in b1\n",
    "np.setdiff1d(a1,b1)"
   ]
  },
  {
   "cell_type": "markdown",
   "metadata": {},
   "source": [
    "Question 4:\n",
    "Suppose you have ridden a bicycle from New York City to Key West, Florida. Your bicycle odometer shows\n",
    "the total miles you have travelled thus far, which you make a note of each day with paper and pencil. Your first two\n",
    "entries might be ‘55’ and ‘120’, indicating that you rode your bike 55 miles on day 1 and 65 miles on day 2. Your task is to create a NumPy array wherein you can record the cumulative miles you recorded each day during your trip “by hand”.\n",
    "\n",
    "Then use your Python skills to show the total miles that you rode each day. Assume the trip took a total of 35 days and included at least 4 non-consecutive days where no cycling was possible due to either weather conditions or personal fatigue/soreness. For the remaining 31 days, you would have covered the entire distance between NYC and Key West.\n",
    "\n",
    "Complete your work within your Jupyter Notebook for this assignment and be sure to include a writeup explaining your\n",
    "approach to this problem, including the ways in which you decided to make use of NumPy."
   ]
  },
  {
   "cell_type": "markdown",
   "metadata": {},
   "source": [
    "First step is to create an array with 35 spots that corresponds to the 35 days on the road:"
   ]
  },
  {
   "cell_type": "code",
   "execution_count": 5,
   "metadata": {},
   "outputs": [],
   "source": [
    "import numpy as np\n",
    "#create array 'miles_per_day' using arange function. (1,36) will give the array a range of 35.\n",
    "miles_per_day=np.arange(1,36)"
   ]
  },
  {
   "cell_type": "markdown",
   "metadata": {},
   "source": [
    "Google Maps says the distance from NYC to Key West, Florida via bicycle is 1,519 miles.\n",
    "1,519 miles/ 31days= 49 miles a day (we are not dividing by 35 days, because according to the given word problem,\n",
    "the biker takes a break for 4 days due to exhaustion or the weather)\n",
    "\n",
    "The biker needs to average 49 miles a day to get to his desitination within the given time.\n",
    "For simplicity, I've given my rider the goal of riding 49 miles every day that she is biking."
   ]
  },
  {
   "cell_type": "code",
   "execution_count": 7,
   "metadata": {},
   "outputs": [
    {
     "data": {
      "text/plain": [
       "array([49, 49, 49, 49, 49, 49, 49, 49, 49, 49,  0, 49, 49, 49, 49,  0, 49,\n",
       "       49, 49, 49,  0, 49, 49, 49, 49, 49, 49, 49, 49, 49,  0, 49, 49, 49,\n",
       "       49])"
      ]
     },
     "execution_count": 7,
     "metadata": {},
     "output_type": "execute_result"
    }
   ],
   "source": [
    "#edit our array. Make the biker ride 49 miles each day (except for the 4 days that he is not biking)  \n",
    "miles_per_day[0:36]=49 \n",
    "miles_per_day[10]=0 \n",
    "miles_per_day[15]=0\n",
    "miles_per_day[20]=0\n",
    "miles_per_day[30]=0\n",
    "\n",
    "miles_per_day #new values within our array, showing the miles biked per each day of the journey"
   ]
  },
  {
   "cell_type": "markdown",
   "metadata": {},
   "source": [
    "At the end of everyday, the biker will mark the number shown on her odometer for cumulative miles rode. \n",
    "We can predict her cumulative mileage via the cumulative sum function below. "
   ]
  },
  {
   "cell_type": "code",
   "execution_count": 12,
   "metadata": {},
   "outputs": [
    {
     "data": {
      "text/plain": [
       "array([  49,   98,  147,  196,  245,  294,  343,  392,  441,  490,  490,\n",
       "        539,  588,  637,  686,  686,  735,  784,  833,  882,  882,  931,\n",
       "        980, 1029, 1078, 1127, 1176, 1225, 1274, 1323, 1323, 1372, 1421,\n",
       "       1470, 1519])"
      ]
     },
     "execution_count": 12,
     "metadata": {},
     "output_type": "execute_result"
    }
   ],
   "source": [
    "miles_per_day.cumsum(axis=0)"
   ]
  },
  {
   "cell_type": "code",
   "execution_count": 9,
   "metadata": {},
   "outputs": [
    {
     "name": "stdout",
     "output_type": "stream",
     "text": [
      "[  49   98  147  196  245  294  343  392  441  490  490  539  588  637\n",
      "  686  686  735  784  833  882  882  931  980 1029 1078 1127 1176 1225\n",
      " 1274 1323 1323 1372 1421 1470 1519]\n"
     ]
    }
   ],
   "source": [
    "#say the cumulative sum array as cum_miles\n",
    "cum_miles=miles_per_day.cumsum(axis=0)\n",
    "print(cum_miles)"
   ]
  },
  {
   "cell_type": "markdown",
   "metadata": {},
   "source": [
    "Let's say our biker misses her goal of 49 miles by 1 miles on the 3rd day, so that her odometer reads 146 instead of 147. She can put the 147 within her cum_miles array by doing cum_miles[2]=146. This allows her to update her array with accurate mileage."
   ]
  },
  {
   "cell_type": "code",
   "execution_count": null,
   "metadata": {},
   "outputs": [],
   "source": [
    "Now lets say that at the end of the 14th day, her odemeter reads 634 instead of the expected 637. \n",
    "She should first change the 13th index in the array to 634.\n",
    "Now if she wants to see how many actual miles she did that day, instead of the planned 49, she can do subtraction on\n",
    "the cum_miles array:"
   ]
  },
  {
   "cell_type": "code",
   "execution_count": 13,
   "metadata": {},
   "outputs": [
    {
     "data": {
      "text/plain": [
       "46"
      ]
     },
     "execution_count": 13,
     "metadata": {},
     "output_type": "execute_result"
    }
   ],
   "source": [
    "#change 637 to 634\n",
    "cum_miles[13]=634\n",
    "#use subtraction on the array\n",
    "cum_miles[13]-cum_miles[12] #she rode 46 miles on the 14th day instead of the planned 49."
   ]
  },
  {
   "cell_type": "markdown",
   "metadata": {},
   "source": [
    "Question 5:\n",
    "Importing a data set containing the NYC Water consumption and preform various mathematical and statistical operations using NumPy’s slicing, methods, and functions."
   ]
  },
  {
   "cell_type": "code",
   "execution_count": 14,
   "metadata": {},
   "outputs": [
    {
     "data": {
      "text/plain": [
       "numpy.ndarray"
      ]
     },
     "execution_count": 14,
     "metadata": {},
     "output_type": "execute_result"
    }
   ],
   "source": [
    "#importing pandas package\n",
    "import pandas\n",
    "\n",
    "# supress scientific notation\n",
    "np.set_printoptions(suppress = True)\n",
    "\n",
    "# read the data file from GitHub and convert to a NumPy ndarray object\n",
    "nyc_water = pandas.read_csv('https://raw.githubusercontent.com/jtopor/DAV-5400/master/Week4/Water_Consumption_In_The_New_York_City.csv').values\n",
    "\n",
    "# verify you have an ndarray object\n",
    "type(nyc_water)"
   ]
  },
  {
   "cell_type": "code",
   "execution_count": 15,
   "metadata": {},
   "outputs": [
    {
     "name": "stdout",
     "output_type": "stream",
     "text": [
      "[[   1979.  7102100.     1512.      213. ]\n",
      " [   1980.  7071639.     1506.      213. ]\n",
      " [   1981.  7089241.     1309.      185. ]\n",
      " [   1982.  7109105.     1382.      194. ]\n",
      " [   1983.  7181224.     1424.      198. ]\n",
      " [   1984.  7234514.     1465.      203. ]\n",
      " [   1985.  7274054.     1326.      182. ]\n",
      " [   1986.  7319246.     1351.      185. ]\n",
      " [   1987.  7342476.     1447.      197. ]\n",
      " [   1988.  7353719.     1484.      202. ]\n",
      " [   1989.  7344175.     1402.      191. ]\n",
      " [   1990.  7335650.     1424.      194. ]\n",
      " [   1991.  7374501.     1469.      199. ]\n",
      " [   1992.  7428944.     1369.      184. ]\n",
      " [   1993.  7506166.     1368.5     182. ]\n",
      " [   1994.  7570458.     1357.7     179. ]\n",
      " [   1995.  7633040.     1325.7     174. ]\n",
      " [   1996.  7697812.     1297.9     169. ]\n",
      " [   1997.  7773443.     1205.5     155. ]\n",
      " [   1998.  7858259.     1219.5     155. ]\n",
      " [   1999.  7947660.     1237.2     156. ]\n",
      " [   2000.  8008278.     1240.4     155. ]\n",
      " [   2001.  8024963.5    1184.      148. ]\n",
      " [   2002.  8041649.     1135.6     141. ]\n",
      " [   2003.  8058334.5    1093.7     136. ]\n",
      " [   2004.  8075020.     1099.5     136. ]\n",
      " [   2005.  8091705.5    1138.      141. ]\n",
      " [   2006.  8108391.     1069.      132. ]\n",
      " [   2007.  8125076.5    1114.      137. ]\n",
      " [   2008.  8141762.     1098.      135. ]\n",
      " [   2009.  8158447.5    1007.5     123. ]\n",
      " [   2010.  8175133.     1039.      127. ]\n",
      " [   2011.  8284098.     1021.      123. ]\n",
      " [   2012.  8361179.     1009.1     121. ]\n",
      " [   2013.  8422460.     1006.1     119. ]\n",
      " [   2014.  8471990.      996.      118. ]\n",
      " [   2015.  8516502.     1009.      118. ]\n",
      " [   2016.  8537673.     1002.      117. ]\n",
      " [   2017.  8622698.      990.2     115. ]]\n"
     ]
    }
   ],
   "source": [
    "#print the array to show the data\n",
    "print(nyc_water)"
   ]
  },
  {
   "cell_type": "markdown",
   "metadata": {},
   "source": [
    "Will now create 4 arrays for the  above 4 columns, which can help in different problem sets and calculations:"
   ]
  },
  {
   "cell_type": "code",
   "execution_count": 16,
   "metadata": {},
   "outputs": [
    {
     "name": "stdout",
     "output_type": "stream",
     "text": [
      "[1979. 1980. 1981. 1982. 1983. 1984. 1985. 1986. 1987. 1988. 1989. 1990.\n",
      " 1991. 1992. 1993. 1994. 1995. 1996. 1997. 1998. 1999. 2000. 2001. 2002.\n",
      " 2003. 2004. 2005. 2006. 2007. 2008. 2009. 2010. 2011. 2012. 2013. 2014.\n",
      " 2015. 2016. 2017.]\n"
     ]
    }
   ],
   "source": [
    "#creating new array that containes only the year values from the original set\n",
    "year=nyc_water[:,0] # defining new array -- \":\" = all rows, \"0\" = first column\n",
    "print(year) #print year array"
   ]
  },
  {
   "cell_type": "code",
   "execution_count": 18,
   "metadata": {},
   "outputs": [
    {
     "name": "stdout",
     "output_type": "stream",
     "text": [
      "[7102100.  7071639.  7089241.  7109105.  7181224.  7234514.  7274054.\n",
      " 7319246.  7342476.  7353719.  7344175.  7335650.  7374501.  7428944.\n",
      " 7506166.  7570458.  7633040.  7697812.  7773443.  7858259.  7947660.\n",
      " 8008278.  8024963.5 8041649.  8058334.5 8075020.  8091705.5 8108391.\n",
      " 8125076.5 8141762.  8158447.5 8175133.  8284098.  8361179.  8422460.\n",
      " 8471990.  8516502.  8537673.  8622698. ]\n"
     ]
    }
   ],
   "source": [
    "#creating new array that containes only the nyc population values from the original set\n",
    "nyc_pop=nyc_water[:,1] # defining new array -- \":\" = all rows, \"1\" = second column\n",
    "\n",
    "print(nyc_pop) #print nyc_pop array"
   ]
  },
  {
   "cell_type": "code",
   "execution_count": 19,
   "metadata": {},
   "outputs": [
    {
     "name": "stdout",
     "output_type": "stream",
     "text": [
      "[1512.  1506.  1309.  1382.  1424.  1465.  1326.  1351.  1447.  1484.\n",
      " 1402.  1424.  1469.  1369.  1368.5 1357.7 1325.7 1297.9 1205.5 1219.5\n",
      " 1237.2 1240.4 1184.  1135.6 1093.7 1099.5 1138.  1069.  1114.  1098.\n",
      " 1007.5 1039.  1021.  1009.1 1006.1  996.  1009.  1002.   990.2]\n"
     ]
    }
   ],
   "source": [
    "#creating new array that containes only the nyc water consumption values from the original set\n",
    "nyc_consump=nyc_water[:,2]# defining new array -- \":\" = all rows, \"2\" = third column\n",
    "\n",
    "print(nyc_consump) #print nyc_consump array"
   ]
  },
  {
   "cell_type": "code",
   "execution_count": 20,
   "metadata": {},
   "outputs": [
    {
     "name": "stdout",
     "output_type": "stream",
     "text": [
      "[213. 213. 185. 194. 198. 203. 182. 185. 197. 202. 191. 194. 199. 184.\n",
      " 182. 179. 174. 169. 155. 155. 156. 155. 148. 141. 136. 136. 141. 132.\n",
      " 137. 135. 123. 127. 123. 121. 119. 118. 118. 117. 115.]\n"
     ]
    }
   ],
   "source": [
    "#creating new array that containes only the nyc water consumption per calita values from the original set\n",
    "capita_consump=nyc_water[:,3]# defining new array -- \":\" = all rows, \"3\" = fourth column\n",
    "\n",
    "print(capita_consump) #print capita_consump array"
   ]
  },
  {
   "cell_type": "markdown",
   "metadata": {},
   "source": [
    "Find the maximum yearly NYC consumption of water in millions of gallons per day.\n",
    "We'll use the max function on the nyc_consump array to bring back the biggest value:"
   ]
  },
  {
   "cell_type": "code",
   "execution_count": 21,
   "metadata": {},
   "outputs": [
    {
     "data": {
      "text/plain": [
       "1512.0"
      ]
     },
     "execution_count": 21,
     "metadata": {},
     "output_type": "execute_result"
    }
   ],
   "source": [
    "nyc_consump.max()"
   ]
  },
  {
   "cell_type": "code",
   "execution_count": 23,
   "metadata": {},
   "outputs": [
    {
     "data": {
      "text/plain": [
       "array([   2017., 8622698.,    1512.,     213.])"
      ]
     },
     "execution_count": 23,
     "metadata": {},
     "output_type": "execute_result"
    }
   ],
   "source": [
    "#This could also have been done by using the max function on the nyc_water array\n",
    "nyc_water.max(0) #brings back the highest value in each column. \n",
    "#If we look at the 3rd column - the consumption column - it is the same as our answer above"
   ]
  },
  {
   "cell_type": "markdown",
   "metadata": {},
   "source": [
    "How many calendar years are represented within the data set?\n",
    "We can get this two ways:\n",
    "Use the shape function on the year array\n",
    "Use the shape function on the nyc_water array"
   ]
  },
  {
   "cell_type": "code",
   "execution_count": 32,
   "metadata": {},
   "outputs": [
    {
     "data": {
      "text/plain": [
       "39"
      ]
     },
     "execution_count": 32,
     "metadata": {},
     "output_type": "execute_result"
    }
   ],
   "source": [
    "year.shape[0] "
   ]
  },
  {
   "cell_type": "code",
   "execution_count": 28,
   "metadata": {},
   "outputs": [
    {
     "data": {
      "text/plain": [
       "39"
      ]
     },
     "execution_count": 28,
     "metadata": {},
     "output_type": "execute_result"
    }
   ],
   "source": [
    "nyc_water.shape[0]"
   ]
  },
  {
   "cell_type": "code",
   "execution_count": null,
   "metadata": {},
   "outputs": [],
   "source": [
    "What is the average NYC water consumption per capita?\n",
    "Use the mean function on the consumption array"
   ]
  },
  {
   "cell_type": "code",
   "execution_count": 33,
   "metadata": {},
   "outputs": [
    {
     "data": {
      "text/plain": [
       "160.30769230769232"
      ]
     },
     "execution_count": 33,
     "metadata": {},
     "output_type": "execute_result"
    }
   ],
   "source": [
    "capita_consump.mean() "
   ]
  },
  {
   "cell_type": "code",
   "execution_count": 35,
   "metadata": {},
   "outputs": [
    {
     "data": {
      "text/plain": [
       "array([   1998.        , 7789045.80769231,    1234.20769231,\n",
       "           160.30769231])"
      ]
     },
     "execution_count": 35,
     "metadata": {},
     "output_type": "execute_result"
    }
   ],
   "source": [
    "#can also use the mean function on the nyc_water array and look at the result of the fourth column\n",
    "nyc_water.mean(0)"
   ]
  },
  {
   "cell_type": "markdown",
   "metadata": {},
   "source": [
    "What is the standard deviation of NYC water consumption per capita?\n",
    "Use the std function:"
   ]
  },
  {
   "cell_type": "code",
   "execution_count": 37,
   "metadata": {},
   "outputs": [
    {
     "data": {
      "text/plain": [
       "31.51894330370624"
      ]
     },
     "execution_count": 37,
     "metadata": {},
     "output_type": "execute_result"
    }
   ],
   "source": [
    "capita_consump.std() "
   ]
  },
  {
   "cell_type": "code",
   "execution_count": 38,
   "metadata": {},
   "outputs": [
    {
     "data": {
      "text/plain": [
       "array([    11.25462868, 470923.52098422,    172.46702157,     31.5189433 ])"
      ]
     },
     "execution_count": 38,
     "metadata": {},
     "output_type": "execute_result"
    }
   ],
   "source": [
    "nyc_water.std(0) \n",
    "#look at the fourth column - the per capita consumption column. Same answer as above"
   ]
  },
  {
   "cell_type": "markdown",
   "metadata": {},
   "source": [
    "Find the increase/decrease values of the nyc population from year to year.\n",
    "Use the diff function on the nyc_pop array. Diff function finds the numerical differences between the nyc_pop values\n"
   ]
  },
  {
   "cell_type": "code",
   "execution_count": 39,
   "metadata": {},
   "outputs": [
    {
     "data": {
      "text/plain": [
       "array([-30461. ,  17602. ,  19864. ,  72119. ,  53290. ,  39540. ,\n",
       "        45192. ,  23230. ,  11243. ,  -9544. ,  -8525. ,  38851. ,\n",
       "        54443. ,  77222. ,  64292. ,  62582. ,  64772. ,  75631. ,\n",
       "        84816. ,  89401. ,  60618. ,  16685.5,  16685.5,  16685.5,\n",
       "        16685.5,  16685.5,  16685.5,  16685.5,  16685.5,  16685.5,\n",
       "        16685.5, 108965. ,  77081. ,  61281. ,  49530. ,  44512. ,\n",
       "        21171. ,  85025. ])"
      ]
     },
     "execution_count": 39,
     "metadata": {},
     "output_type": "execute_result"
    }
   ],
   "source": [
    "np.diff(nyc_pop)"
   ]
  }
 ],
 "metadata": {
  "kernelspec": {
   "display_name": "Python 3",
   "language": "python",
   "name": "python3"
  },
  "language_info": {
   "codemirror_mode": {
    "name": "ipython",
    "version": 3
   },
   "file_extension": ".py",
   "mimetype": "text/x-python",
   "name": "python",
   "nbconvert_exporter": "python",
   "pygments_lexer": "ipython3",
   "version": "3.8.3"
  }
 },
 "nbformat": 4,
 "nbformat_minor": 4
}
