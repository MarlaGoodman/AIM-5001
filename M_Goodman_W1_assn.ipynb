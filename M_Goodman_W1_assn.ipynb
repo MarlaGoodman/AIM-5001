{
 "cells": [
  {
   "cell_type": "markdown",
   "metadata": {},
   "source": [
    "# Assignment 1 \n",
    "## Unisex Names (U.S.)\n",
    "\n",
    "GitHub link to the data set: https://github.com/MarlaGoodman/AIM-5001/blob/master/unisex_names_table.csv\n",
    "\n",
    "[GitHub data set](https://github.com/MarlaGoodman/AIM-5001/blob/master/unisex_names_table.csv)\n",
    "\n",
    "Where the data set came from originally: https://data.fivethirtyeight.com/\n",
    "\n",
    "[Original data set](https://data.fivethirtyeight.com/)\n",
    "\n",
    "Names make a data set feel more **personal**. That makes it more interesting (for me) than something arbitrary, like sports stats.\n",
    "\n",
    "It also might be interesting to later compare these U.S. unisex names and the number of Americans with these names, to other countries' data. \n",
    "\n",
    "Further, I could work with the data set to determine which are the most used names in the table, and for which gender they are being assigned.\n",
    "\n",
    "I can imagine this information would be useful to a company looking to make name keychains. They would want to know the answer to the above so that they could manufacture the most popular names, used by both genders. This would allow them reach as many customers as possible, without having to create hundreds of thousands of name keychains. \n",
    "\n"
   ]
  },
  {
   "cell_type": "markdown",
   "metadata": {},
   "source": []
  }
 ],
 "metadata": {
  "kernelspec": {
   "display_name": "Python 3",
   "language": "python",
   "name": "python3"
  },
  "language_info": {
   "codemirror_mode": {
    "name": "ipython",
    "version": 3
   },
   "file_extension": ".py",
   "mimetype": "text/x-python",
   "name": "python",
   "nbconvert_exporter": "python",
   "pygments_lexer": "ipython3",
   "version": "3.8.3"
  }
 },
 "nbformat": 4,
 "nbformat_minor": 4
}
