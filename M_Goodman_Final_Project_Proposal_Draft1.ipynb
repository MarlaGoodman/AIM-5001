{
 "cells": [
  {
   "cell_type": "markdown",
   "metadata": {},
   "source": [
    "# AIM Final Project Proposal: Draft #1 - Marla Goodman"
   ]
  },
  {
   "cell_type": "markdown",
   "metadata": {},
   "source": [
    "## Introduction:"
   ]
  },
  {
   "cell_type": "markdown",
   "metadata": {},
   "source": [
    "Earthquakes are some of the deadliest natural disasters in history. However, even when earthquakes occur deep down below sea level, the resulting tsunamis they cause can be equally as damaging, both in human deaths and monetary damages.  The U.S. Geological Survey (USGS) estimates that 500,000 detectable earthquakes occur in the world each year. However, many more go undetected because they hit remote areas or have very small magnitudes. \n",
    "\n",
    "The Richter scale is used to measure earthquake magnitudes.  More destructive earthquakes typically have magnitudes between 5.5 and 8.9. The largest earthquake in recorded history occurred in Chile in 1977, measured at 9.5 on the Richter scale. Since 1900, scientists have expected about 17 major earthquakes in any given year. However, most earthquakes - 80 to 90 percent - will occur in the belt that is known as the “Ring of Fire”, located around the outer edges of the Pacific Ocean. This means the areas most likely to experience an earthquake (and potential subsequent tsunamis) are Oceania, East Asia,  and West coasts of the Americas. \n",
    "\n",
    "Given that this ring is prone to earthquakes, which can cause serious tsunamis, the NOAA (National Oceanic and Atmospheric Administration) has developed the DART system (Deep-ocean Assessment & Reporting of Tsunamis) for the early detection, measurement, and real-time reporting of tsunamis. DART is comprised of buoys all around the ring that detect the beginnings of a tsunami caused by an earthquake in the ocean. This way, scientists can measure the waves as they come towards land. In the end, the NOAA hopes to accomplish two goals: “1) Reduce the loss of life and property in U.S. coastal communities. and 2) reduce false alarms and the resulting high economic cost of unnecessary evacuations, physical risk to the population during evacuation, as well as loss of public confidence in the confidence in the warning system.”\n",
    "\n",
    "This is a perfect example of why we need to track and analyze natural disasters. The data collected can give us insights into where and how the disasters originate. Armed with that information, we can appropriately use our modern technology to help prevent damage, death, and injury to communities around the world."
   ]
  },
  {
   "cell_type": "markdown",
   "metadata": {},
   "source": [
    "## Research Questions:"
   ]
  },
  {
   "cell_type": "markdown",
   "metadata": {},
   "source": [
    "1. To assist in earthquake detection, it is important to know which area(s) around the globe receive the most significant earthquakes, outside the “Ring of Fire.” This is what I will endeavor to find out. "
   ]
  },
  {
   "cell_type": "markdown",
   "metadata": {},
   "source": [
    "I want to determine other large earthquake hotspots around the world. This data would guide companies and governments where to invest the most advanced seismograph technology and resources. Furthermore, in areas most likely to get hit by earthquakes, nations may want to have a humanitarian aid posting (doctors, nurses, translators, etc.) there to assist in common disasters. \n"
   ]
  },
  {
   "cell_type": "markdown",
   "metadata": {},
   "source": [
    "2. Additionally, it is important to know how often an earthquake is accompanied by a tsunami, as communities could unknowingly get hit with a double disaster all at once. "
   ]
  },
  {
   "cell_type": "markdown",
   "metadata": {},
   "source": [
    "It is good to not just determine where many ocean earthquakes take place, but to also analyze how many earthquakes actually cause a subsequent tsunami.  Is there any corresponding connection between an earthquake’s Richter score and and ensuing tsunami? Do large earthquakes always cause a tsunami? This is important to know, since we don’t want to waste our technology, time, money, and more on areas that may have large earthquakes but don’t necessarily produce a devastating after-effect."
   ]
  },
  {
   "cell_type": "markdown",
   "metadata": {},
   "source": [
    "## Data To Be Used:"
   ]
  },
  {
   "cell_type": "markdown",
   "metadata": {},
   "source": [
    "One piece of data I will use is a set presented on Kaggle.com by Chandra Shkehar (https://www.kaggle.com/shekpaul/major-earthquakes-noaa?select=NOAA+Earthquaqe+since+1600.csv). The NOAA has a database called the Significant Earthquake Database that contains information on destructive earthquakes from 2150 BCE to the present. As the full contents of the database is many use cases, Chandra went ahead and filtered the database into a CSV file containing the information from 1600 CE to now. (He went displayed this subset of the database by entering what he wanted into the search option and clicking the Search Database button.) I will download his CSV file from Kaggle. \n",
    "\n",
    "Additionally, the United States Geological Survey (USGS - https://earthquake.usgs.gov/earthquakes/search/)  also provides data on as many global earthquakes that have occurred as possible - significant and non-significant ones alike. The data is contained in their GeoJSON Earthquake Catalog."
   ]
  },
  {
   "cell_type": "markdown",
   "metadata": {},
   "source": [
    "## Approach:"
   ]
  },
  {
   "cell_type": "markdown",
   "metadata": {},
   "source": [
    "For the USGS information, I will first use the usgs link to filter my search. I will set the ‘Magnitude’ option to 5.5 or above to signify I want only significant earthquakes to come back in the json file. Next I will import json, change the data listed in the json file into a string (by using “””), and assign a name to it. After that I will run name through the  json.loads() code, in order to get the same formatted data as the json file into my Juptyer Notebook. With the dictionaries present, I will pass a list of them to the DataFrame constructor and select a subset of the data fields that are most relevant to my research.  This way, I get a clear, easily read and analyzed data frame containing the information needed for the project.\n",
    "\n",
    "For the NOAA information, I will download Shkehar’s CSV file, and save it to my computer. I will run the path of the file into pd.read_csv() to get a second data frame of the information that I need. I will then remove some of the attributes within in the data frame, as not all of columns are relevant to my research questions. \n",
    "\n",
    "For my research questions, I will plot a bar chart of the regions or countries hit by the most significant earthquakes over the past 400 years. This will allow me to see which areas of the world have historically received the most significant earthquakes. I will also create a graph that shows tsunamis as they relate to the magnitudes of earthquakes. \n",
    "\n",
    "Further, I will plot bar charts for large earthquakes occurring over two yearly ranges: 1600-1800 and 1800-2000. This may help me pinpoint how earthquake patterns might have changed over the centuries, if at all. Lastly, I will generate summary statistics and scatterplots on the numerical values to see how earthquake injuries, deaths, and monetary damages compare."
   ]
  }
 ],
 "metadata": {
  "kernelspec": {
   "display_name": "Python 3",
   "language": "python",
   "name": "python3"
  },
  "language_info": {
   "codemirror_mode": {
    "name": "ipython",
    "version": 3
   },
   "file_extension": ".py",
   "mimetype": "text/x-python",
   "name": "python",
   "nbconvert_exporter": "python",
   "pygments_lexer": "ipython3",
   "version": "3.8.3"
  }
 },
 "nbformat": 4,
 "nbformat_minor": 4
}
