{
 "cells": [
  {
   "cell_type": "markdown",
   "metadata": {},
   "source": [
    "# AIM Final Project Proposal (Revised 12.23.20) - Marla Goodman"
   ]
  },
  {
   "cell_type": "markdown",
   "metadata": {},
   "source": [
    "## Introduction:"
   ]
  },
  {
   "cell_type": "markdown",
   "metadata": {},
   "source": [
    "Earthquakes are some of the deadliest natural disasters in history. The U.S. Geological Survey (USGS) estimates that 500,000 detectable earthquakes occur in the world each year. More destructive earthquakes typically have magnitudes between 5.5 and 8.9. Since 1900, scientists have expected about 17 major earthquakes in any given year. However, most earthquakes - 80 to 90 percent - will occur in the belt that is known as the “Ring of Fire”, located around the outer edges of the Pacific Ocean. This means the areas most likely to experience an earthquake are Oceania, East Asia,  and West coasts of the Americas. \n",
    "\n",
    "Given that this ring is prone to earthquakes, which can cause serious tsunamis, the NOAA (National Oceanic and Atmospheric Administration) has developed the DART system (Deep-ocean Assessment & Reporting of Tsunamis) for the early detection, measurement, and real-time reporting of tsunamis.The NOAA hopes this technology minimizes loss of life and millions of dollars of damages. \n",
    "\n",
    "This is a perfect example of why we need to track and analyze natural disasters. Data can give us insights into where and how disasters originate. With that information, we can appropriately use our modern technology to help prevent damage, death, and injury to communities around the world."
   ]
  },
  {
   "cell_type": "markdown",
   "metadata": {},
   "source": [
    "## Research Questions:"
   ]
  },
  {
   "cell_type": "markdown",
   "metadata": {},
   "source": [
    "1. To assist in earthquake detection, it is important to know which area(s) around the globe receive the most significant earthquakes, outside the “Ring of Fire.” This is what I will endeavor to find out. "
   ]
  },
  {
   "cell_type": "markdown",
   "metadata": {},
   "source": [
    "I want to determine other large earthquake hotspots around the world. This data would guide companies and governments where to invest the most advanced seismograph technology and resources. Furthermore, in areas most likely to get hit by earthquakes, nations may want to have a humanitarian aid posting (doctors, nurses, translators, etc.) there to assist in common disasters. \n"
   ]
  },
  {
   "cell_type": "markdown",
   "metadata": {},
   "source": [
    "2. Additionally, it is important to see if an earthquake that takes place in or near the water is more often than not accompanied by a tsunami. Is there perhaps a connetion between an earthquake and an ensuing tsunami?\n",
    "\n",
    "Again, it is important to find out how, when, and where a natural disaster might strike in order to better protect the countries most susceptible to the disaster. "
   ]
  },
  {
   "cell_type": "markdown",
   "metadata": {},
   "source": [
    "## Data To Be Used:"
   ]
  },
  {
   "cell_type": "markdown",
   "metadata": {},
   "source": [
    "One piece of data I will use is a set presented on Kaggle.com by Chandra Shkehar (https://www.kaggle.com/shekpaul/major-earthquakes-noaa?select=NOAA+Earthquaqe+since+1600.csv). The NOAA has a database called the Significant Earthquake Database that contains information on destructive earthquakes from 2150 BCE to the present. As the full contents of the database is many use cases, Chandra went ahead and filtered the database into a CSV file containing the information from 1600 CE to now. (He went displayed this subset of the database by entering what he wanted into the search option and clicking the Search Database button.) I will download his CSV file from Kaggle. \n",
    "\n",
    "Additionally, the United States Geological Survey (USGS - https://www.usgs.gov/natural-hazards/earthquake-hazards/science/20-largest-earthquakes-world?qt-science_center_objects=0#qt-science_center_objects) provides data on the top 20 largest earthquakes ever recorded by humans. I will pull that information from their website via HTML web scraping. "
   ]
  },
  {
   "cell_type": "markdown",
   "metadata": {},
   "source": [
    "## Approach (Original):"
   ]
  },
  {
   "cell_type": "markdown",
   "metadata": {},
   "source": [
    "For the USGS information, I will run the website's link into the Jupyter Notebook via urllib.request. I will then use BeautifulSoup to organize the data better for parsing. After that, I will parse through the information to find table tags. From that info, I will find all table row tags, and create a for loop to go through them. This will bring back all the rows, which I will then convert to a Pandas DataFrame for ease of use.\n",
    "\n",
    "For the NOAA information, I will put Shkehar’s CSV file into my Github. I will run the path of the file into pd.read_csv() to get a second data frame of the information that I need. I will then remove some of the attributes within in the data frame, as not all of columns are relevant to my research questions. \n",
    "\n",
    "For my research questions, I will plot a bar chart of the regions or countries hit by the most significant and frequent earthquakes (*) over the past 400 years. This will allow me to see which areas of the world have received the most significant and frequent earthquakes. I will also graph a bar chart of the top 20 largest earthquakes to see if a certain area is more susceptible to earthquakes over a magnitude of 8.5.  \n",
    "\n",
    "Additionally, I will create a graph that shows tsunamis as they relate to the magnitudes of earthquakes. \n",
    "\n",
    "(**) Further, I will plot a scatterplot to compare the numerical values of those injured/dead to the monetary damage amounts. \n",
    "\n",
    "(***) I will also make use of the Counter() function to determine information that could be useful to the research. This information includes how many times a tsunami has occured in conjunction with an earthquake and how many times an earthquake of a certain magnitude occured."
   ]
  },
  {
   "cell_type": "markdown",
   "metadata": {},
   "source": [
    "## Approach (Revised):"
   ]
  },
  {
   "cell_type": "markdown",
   "metadata": {},
   "source": [
    "(*) Revision 1: Upon doing more research for my domain knowledge, I determined that I should only include the years from 1960 to 2020 in my project. I learned that modern siesmology (the study of earthquakes) is a relatively young science, and that major techonological advances in this area did not come about until the 1960s. I go into more depth about this in my final project Jupyter Notebook, and justify with more explanation & calculations why I only kept years 1960 to 2020. Even after I cut my data down, I was still left with almost 2,500 use cases to work with. "
   ]
  },
  {
   "cell_type": "markdown",
   "metadata": {},
   "source": [
    "(**) Revision 2: As I was analyzing the data, I determined that a scatterplot comparing those dead/injured to monetary damages by place or magnitude did not add to my project's research questions. Even though places with a large loss of life or property could use technological, financial, and humanitarian aid (which was the ultimate goal of analyzing this data), damages, loss, and injuries have too many factors unconnected to earthquakes or tsunamis. For example, population. Was a value left null because the earthquake wasn't destructive, or was the earthquake extremely destructive but nobody lived where it struck? Another example, developing countries. Two countries can experience the same earthquake magnitude, but a developing country with weak infrastructure will see more building damage than a developed country. A last example is the tsunami itself. The data set doesn't distinguish where the loss or damages came from. Did 100,000 people die in one instance mainly die to the earthquake, or mainly due to the tsunami? \n",
    "\n",
    "To actually analyze all this, I would need more data, more variables, more analysis, and more research.  "
   ]
  },
  {
   "cell_type": "markdown",
   "metadata": {},
   "source": [
    "(***) For the requirement to use something we did not cover in class, I originally thought I needed to use the zip () function to get my data in order, but I didn't end up needing to use it. Then I thought the counter() function would be required for my analytics work. However, I didn't end up needing that either. Finally, I decided that my work could use pictures in it, since I reference different geographical places within my project (the east coast of Asia, west coast of the Americas, southern Europe, some of the Middle East, and the Indian subcontinent). I therefore made use of an Imaging library called Pillow. I installed it, and from it I imported the Image function. From there, I took the urls of online pictures and opened them in my notebook. I think this accompanied my worded explanations nicely and contributed to my project overall.  "
   ]
  }
 ],
 "metadata": {
  "kernelspec": {
   "display_name": "Python 3",
   "language": "python",
   "name": "python3"
  },
  "language_info": {
   "codemirror_mode": {
    "name": "ipython",
    "version": 3
   },
   "file_extension": ".py",
   "mimetype": "text/x-python",
   "name": "python",
   "nbconvert_exporter": "python",
   "pygments_lexer": "ipython3",
   "version": "3.8.3"
  }
 },
 "nbformat": 4,
 "nbformat_minor": 4
}
